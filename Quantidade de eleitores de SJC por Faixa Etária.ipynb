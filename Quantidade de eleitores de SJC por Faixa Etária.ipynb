{
 "cells": [
  {
   "cell_type": "code",
   "execution_count": 1,
   "metadata": {},
   "outputs": [],
   "source": [
    "%matplotlib inline\n",
    "import pandas as pd\n",
    "import matplotlib.pyplot as plt\n",
    "import numpy as np"
   ]
  },
  {
   "cell_type": "code",
   "execution_count": 2,
   "metadata": {},
   "outputs": [],
   "source": [
    "eleitor_60_anos_ou_mais_2016=(r'C:\\Users\\Dirceu\\PYTHON\\perfil_comparecimento_abstencao_2016.csv')\n",
    "df2016=pd.read_csv(eleitor_60_anos_ou_mais_2016, delimiter=';', encoding='Latin 1', error_bad_lines=False, usecols = ['NM_MUNICIPIO', 'DS_FAIXA_ETARIA', 'QT_APTOS', 'QT_COMPARECIMENTO', 'QT_ABSTENCAO'])"
   ]
  },
  {
   "cell_type": "code",
   "execution_count": 3,
   "metadata": {},
   "outputs": [],
   "source": [
    "eleitor_60_anos_ou_mais_2020=(r'C:\\Users\\Dirceu\\PYTHON\\perfil_comparecimento_abstencao_2020.csv')\n",
    "df2020=pd.read_csv(eleitor_60_anos_ou_mais_2020, delimiter=';', encoding='Latin 1', error_bad_lines=False, usecols = ['NM_MUNICIPIO', 'DS_FAIXA_ETARIA', 'QT_APTOS', 'QT_COMPARECIMENTO', 'QT_ABSTENCAO'])"
   ]
  },
  {
   "cell_type": "code",
   "execution_count": 4,
   "metadata": {},
   "outputs": [
    {
     "name": "stdout",
     "output_type": "stream",
     "text": [
      "<class 'pandas.core.frame.DataFrame'>\n",
      "RangeIndex: 4644846 entries, 0 to 4644845\n",
      "Data columns (total 5 columns):\n",
      " #   Column             Dtype \n",
      "---  ------             ----- \n",
      " 0   NM_MUNICIPIO       object\n",
      " 1   DS_FAIXA_ETARIA    object\n",
      " 2   QT_APTOS           int64 \n",
      " 3   QT_COMPARECIMENTO  int64 \n",
      " 4   QT_ABSTENCAO       int64 \n",
      "dtypes: int64(3), object(2)\n",
      "memory usage: 141.7+ MB\n"
     ]
    }
   ],
   "source": [
    "df2016.info()"
   ]
  },
  {
   "cell_type": "code",
   "execution_count": 5,
   "metadata": {},
   "outputs": [
    {
     "name": "stdout",
     "output_type": "stream",
     "text": [
      "<class 'pandas.core.frame.DataFrame'>\n",
      "RangeIndex: 4377216 entries, 0 to 4377215\n",
      "Data columns (total 5 columns):\n",
      " #   Column             Dtype \n",
      "---  ------             ----- \n",
      " 0   NM_MUNICIPIO       object\n",
      " 1   DS_FAIXA_ETARIA    object\n",
      " 2   QT_APTOS           int64 \n",
      " 3   QT_COMPARECIMENTO  int64 \n",
      " 4   QT_ABSTENCAO       int64 \n",
      "dtypes: int64(3), object(2)\n",
      "memory usage: 133.6+ MB\n"
     ]
    }
   ],
   "source": [
    "df2020.info()"
   ]
  },
  {
   "cell_type": "code",
   "execution_count": 8,
   "metadata": {},
   "outputs": [
    {
     "data": {
      "text/plain": [
       "NM_MUNICIPIO\n",
       "SÃO PAULO          6438\n",
       "FORTALEZA          5627\n",
       "CARAPICUÍBA        5462\n",
       "GUARULHOS          4853\n",
       "ANANINDEUA         4468\n",
       "                   ... \n",
       "DOURADOQUARA         26\n",
       "MIRASELVA            25\n",
       "ANHANGÜERA           20\n",
       "CEDRO DO ABAETÉ      18\n",
       "ARAGUAINHA           18\n",
       "Name: QT_APTOS, Length: 5296, dtype: int64"
      ]
     },
     "execution_count": 8,
     "metadata": {},
     "output_type": "execute_result"
    }
   ],
   "source": [
    "df2016.groupby('NM_MUNICIPIO')['QT_APTOS'].max().sort_values(ascending=False)"
   ]
  },
  {
   "cell_type": "code",
   "execution_count": 6,
   "metadata": {
    "scrolled": true
   },
   "outputs": [
    {
     "data": {
      "text/html": [
       "<div>\n",
       "<style scoped>\n",
       "    .dataframe tbody tr th:only-of-type {\n",
       "        vertical-align: middle;\n",
       "    }\n",
       "\n",
       "    .dataframe tbody tr th {\n",
       "        vertical-align: top;\n",
       "    }\n",
       "\n",
       "    .dataframe thead th {\n",
       "        text-align: right;\n",
       "    }\n",
       "</style>\n",
       "<table border=\"1\" class=\"dataframe\">\n",
       "  <thead>\n",
       "    <tr style=\"text-align: right;\">\n",
       "      <th></th>\n",
       "      <th>NM_MUNICIPIO</th>\n",
       "      <th>DS_FAIXA_ETARIA</th>\n",
       "      <th>QT_APTOS</th>\n",
       "      <th>QT_COMPARECIMENTO</th>\n",
       "      <th>QT_ABSTENCAO</th>\n",
       "    </tr>\n",
       "  </thead>\n",
       "  <tbody>\n",
       "    <tr>\n",
       "      <th>661233</th>\n",
       "      <td>PESCARIA BRAVA</td>\n",
       "      <td>60 a 64 anos</td>\n",
       "      <td>52</td>\n",
       "      <td>49</td>\n",
       "      <td>3</td>\n",
       "    </tr>\n",
       "    <tr>\n",
       "      <th>2581748</th>\n",
       "      <td>ALTO DO RODRIGUES</td>\n",
       "      <td>50 a 54 anos</td>\n",
       "      <td>6</td>\n",
       "      <td>5</td>\n",
       "      <td>1</td>\n",
       "    </tr>\n",
       "    <tr>\n",
       "      <th>2384395</th>\n",
       "      <td>RIO FORTUNA</td>\n",
       "      <td>45 a 49 anos</td>\n",
       "      <td>6</td>\n",
       "      <td>6</td>\n",
       "      <td>0</td>\n",
       "    </tr>\n",
       "    <tr>\n",
       "      <th>4000095</th>\n",
       "      <td>PIO IX</td>\n",
       "      <td>70 a 74 anos</td>\n",
       "      <td>3</td>\n",
       "      <td>3</td>\n",
       "      <td>0</td>\n",
       "    </tr>\n",
       "    <tr>\n",
       "      <th>1279984</th>\n",
       "      <td>CAPELINHA</td>\n",
       "      <td>55 a 59 anos</td>\n",
       "      <td>8</td>\n",
       "      <td>8</td>\n",
       "      <td>0</td>\n",
       "    </tr>\n",
       "    <tr>\n",
       "      <th>631849</th>\n",
       "      <td>XAXIM</td>\n",
       "      <td>45 a 49 anos</td>\n",
       "      <td>9</td>\n",
       "      <td>9</td>\n",
       "      <td>0</td>\n",
       "    </tr>\n",
       "    <tr>\n",
       "      <th>1047004</th>\n",
       "      <td>SÃO JOSÉ</td>\n",
       "      <td>50 a 54 anos</td>\n",
       "      <td>246</td>\n",
       "      <td>221</td>\n",
       "      <td>25</td>\n",
       "    </tr>\n",
       "    <tr>\n",
       "      <th>4585707</th>\n",
       "      <td>CAJOBI</td>\n",
       "      <td>40 a 44 anos</td>\n",
       "      <td>1</td>\n",
       "      <td>1</td>\n",
       "      <td>0</td>\n",
       "    </tr>\n",
       "    <tr>\n",
       "      <th>994089</th>\n",
       "      <td>FORTALEZA</td>\n",
       "      <td>70 a 74 anos</td>\n",
       "      <td>2</td>\n",
       "      <td>1</td>\n",
       "      <td>1</td>\n",
       "    </tr>\n",
       "    <tr>\n",
       "      <th>2688183</th>\n",
       "      <td>GOIANÉSIA DO PARÁ</td>\n",
       "      <td>25 a 29 anos</td>\n",
       "      <td>2</td>\n",
       "      <td>2</td>\n",
       "      <td>0</td>\n",
       "    </tr>\n",
       "  </tbody>\n",
       "</table>\n",
       "</div>"
      ],
      "text/plain": [
       "              NM_MUNICIPIO DS_FAIXA_ETARIA  QT_APTOS  QT_COMPARECIMENTO  \\\n",
       "661233      PESCARIA BRAVA    60 a 64 anos        52                 49   \n",
       "2581748  ALTO DO RODRIGUES    50 a 54 anos         6                  5   \n",
       "2384395        RIO FORTUNA    45 a 49 anos         6                  6   \n",
       "4000095             PIO IX    70 a 74 anos         3                  3   \n",
       "1279984          CAPELINHA    55 a 59 anos         8                  8   \n",
       "631849               XAXIM    45 a 49 anos         9                  9   \n",
       "1047004           SÃO JOSÉ    50 a 54 anos       246                221   \n",
       "4585707             CAJOBI    40 a 44 anos         1                  1   \n",
       "994089           FORTALEZA    70 a 74 anos         2                  1   \n",
       "2688183  GOIANÉSIA DO PARÁ    25 a 29 anos         2                  2   \n",
       "\n",
       "         QT_ABSTENCAO  \n",
       "661233              3  \n",
       "2581748             1  \n",
       "2384395             0  \n",
       "4000095             0  \n",
       "1279984             0  \n",
       "631849              0  \n",
       "1047004            25  \n",
       "4585707             0  \n",
       "994089              1  \n",
       "2688183             0  "
      ]
     },
     "execution_count": 6,
     "metadata": {},
     "output_type": "execute_result"
    }
   ],
   "source": [
    "df2016.sample(10)"
   ]
  },
  {
   "cell_type": "code",
   "execution_count": 9,
   "metadata": {},
   "outputs": [
    {
     "data": {
      "text/plain": [
       "NM_MUNICIPIO\n",
       "SÃO PAULO           6031\n",
       "CARAPICUÍBA         4234\n",
       "ANANINDEUA          3977\n",
       "GUARULHOS           3935\n",
       "MACAPÁ              3880\n",
       "                    ... \n",
       "GRUPIARA              21\n",
       "ARAGUAINHA            21\n",
       "ANHANGÜERA            20\n",
       "CEDRO DO ABAETÉ       20\n",
       "SERRA DA SAUDADE      16\n",
       "Name: QT_APTOS, Length: 5295, dtype: int64"
      ]
     },
     "execution_count": 9,
     "metadata": {},
     "output_type": "execute_result"
    }
   ],
   "source": [
    "df2020.groupby('NM_MUNICIPIO')['QT_APTOS'].max().sort_values(ascending=False)"
   ]
  },
  {
   "cell_type": "code",
   "execution_count": 7,
   "metadata": {},
   "outputs": [
    {
     "data": {
      "text/html": [
       "<div>\n",
       "<style scoped>\n",
       "    .dataframe tbody tr th:only-of-type {\n",
       "        vertical-align: middle;\n",
       "    }\n",
       "\n",
       "    .dataframe tbody tr th {\n",
       "        vertical-align: top;\n",
       "    }\n",
       "\n",
       "    .dataframe thead th {\n",
       "        text-align: right;\n",
       "    }\n",
       "</style>\n",
       "<table border=\"1\" class=\"dataframe\">\n",
       "  <thead>\n",
       "    <tr style=\"text-align: right;\">\n",
       "      <th></th>\n",
       "      <th>NM_MUNICIPIO</th>\n",
       "      <th>DS_FAIXA_ETARIA</th>\n",
       "      <th>QT_APTOS</th>\n",
       "      <th>QT_COMPARECIMENTO</th>\n",
       "      <th>QT_ABSTENCAO</th>\n",
       "    </tr>\n",
       "  </thead>\n",
       "  <tbody>\n",
       "    <tr>\n",
       "      <th>1028670</th>\n",
       "      <td>ACARAÚ</td>\n",
       "      <td>70 a 74 anos</td>\n",
       "      <td>1</td>\n",
       "      <td>1</td>\n",
       "      <td>0</td>\n",
       "    </tr>\n",
       "    <tr>\n",
       "      <th>2361318</th>\n",
       "      <td>PALMEIRA DO PIAUÍ</td>\n",
       "      <td>21 a 24 anos</td>\n",
       "      <td>83</td>\n",
       "      <td>73</td>\n",
       "      <td>10</td>\n",
       "    </tr>\n",
       "    <tr>\n",
       "      <th>3761958</th>\n",
       "      <td>TRAVESSEIRO</td>\n",
       "      <td>30 a 34 anos</td>\n",
       "      <td>9</td>\n",
       "      <td>9</td>\n",
       "      <td>0</td>\n",
       "    </tr>\n",
       "    <tr>\n",
       "      <th>3674821</th>\n",
       "      <td>LUIS CORREIA</td>\n",
       "      <td>55 a 59 anos</td>\n",
       "      <td>11</td>\n",
       "      <td>10</td>\n",
       "      <td>1</td>\n",
       "    </tr>\n",
       "    <tr>\n",
       "      <th>3675485</th>\n",
       "      <td>CAMPO DO MEIO</td>\n",
       "      <td>45 a 49 anos</td>\n",
       "      <td>1</td>\n",
       "      <td>1</td>\n",
       "      <td>0</td>\n",
       "    </tr>\n",
       "    <tr>\n",
       "      <th>3877979</th>\n",
       "      <td>PRAIA GRANDE</td>\n",
       "      <td>75 a 79 anos</td>\n",
       "      <td>14</td>\n",
       "      <td>1</td>\n",
       "      <td>13</td>\n",
       "    </tr>\n",
       "    <tr>\n",
       "      <th>1090321</th>\n",
       "      <td>IPAUMIRIM</td>\n",
       "      <td>19 anos</td>\n",
       "      <td>28</td>\n",
       "      <td>22</td>\n",
       "      <td>6</td>\n",
       "    </tr>\n",
       "    <tr>\n",
       "      <th>3651582</th>\n",
       "      <td>GUARACIABA</td>\n",
       "      <td>40 a 44 anos</td>\n",
       "      <td>2</td>\n",
       "      <td>1</td>\n",
       "      <td>1</td>\n",
       "    </tr>\n",
       "    <tr>\n",
       "      <th>3601382</th>\n",
       "      <td>SALMOURÃO</td>\n",
       "      <td>35 a 39 anos</td>\n",
       "      <td>33</td>\n",
       "      <td>27</td>\n",
       "      <td>6</td>\n",
       "    </tr>\n",
       "    <tr>\n",
       "      <th>3020723</th>\n",
       "      <td>CERRO BRANCO</td>\n",
       "      <td>45 a 49 anos</td>\n",
       "      <td>1</td>\n",
       "      <td>1</td>\n",
       "      <td>0</td>\n",
       "    </tr>\n",
       "  </tbody>\n",
       "</table>\n",
       "</div>"
      ],
      "text/plain": [
       "              NM_MUNICIPIO DS_FAIXA_ETARIA  QT_APTOS  QT_COMPARECIMENTO  \\\n",
       "1028670             ACARAÚ    70 a 74 anos         1                  1   \n",
       "2361318  PALMEIRA DO PIAUÍ    21 a 24 anos        83                 73   \n",
       "3761958        TRAVESSEIRO    30 a 34 anos         9                  9   \n",
       "3674821       LUIS CORREIA    55 a 59 anos        11                 10   \n",
       "3675485      CAMPO DO MEIO    45 a 49 anos         1                  1   \n",
       "3877979       PRAIA GRANDE    75 a 79 anos        14                  1   \n",
       "1090321          IPAUMIRIM         19 anos        28                 22   \n",
       "3651582         GUARACIABA    40 a 44 anos         2                  1   \n",
       "3601382          SALMOURÃO    35 a 39 anos        33                 27   \n",
       "3020723       CERRO BRANCO    45 a 49 anos         1                  1   \n",
       "\n",
       "         QT_ABSTENCAO  \n",
       "1028670             0  \n",
       "2361318            10  \n",
       "3761958             0  \n",
       "3674821             1  \n",
       "3675485             0  \n",
       "3877979            13  \n",
       "1090321             6  \n",
       "3651582             1  \n",
       "3601382             6  \n",
       "3020723             0  "
      ]
     },
     "execution_count": 7,
     "metadata": {},
     "output_type": "execute_result"
    }
   ],
   "source": [
    "df2020.sample(10)"
   ]
  },
  {
   "cell_type": "code",
   "execution_count": 20,
   "metadata": {},
   "outputs": [
    {
     "data": {
      "text/plain": [
       "<AxesSubplot:ylabel='NM_MUNICIPIO'>"
      ]
     },
     "execution_count": 20,
     "metadata": {},
     "output_type": "execute_result"
    },
    {
     "data": {
      "image/png": "[encoded data removed]",
      "text/plain": [
       "<Figure size 432x288 with 1 Axes>"
      ]
     },
     "metadata": {
      "needs_background": "light"
     },
     "output_type": "display_data"
    }
   ],
   "source": [
    "df2016.groupby('NM_MUNICIPIO')['QT_APTOS'].max().sort_values().tail(5).plot(kind='barh')"
   ]
  },
  {
   "cell_type": "code",
   "execution_count": 18,
   "metadata": {},
   "outputs": [
    {
     "data": {
      "text/plain": [
       "<AxesSubplot:ylabel='NM_MUNICIPIO'>"
      ]
     },
     "execution_count": 18,
     "metadata": {},
     "output_type": "execute_result"
    },
    {
     "data": {
      "image/png": "[encoded data removed]",
      "text/plain": [
       "<Figure size 432x288 with 1 Axes>"
      ]
     },
     "metadata": {
      "needs_background": "light"
     },
     "output_type": "display_data"
    }
   ],
   "source": [
    "df2020.groupby('NM_MUNICIPIO')['QT_APTOS'].max().sort_values().tail(5).plot(kind='barh')"
   ]
  },
  {
   "cell_type": "code",
   "execution_count": 27,
   "metadata": {},
   "outputs": [
    {
     "data": {
      "text/plain": [
       "<AxesSubplot:xlabel='DS_FAIXA_ETARIA'>"
      ]
     },
     "execution_count": 27,
     "metadata": {},
     "output_type": "execute_result"
    },
    {
     "data": {
      "image/png": "[encoded data removed]",
      "text/plain": [
       "<Figure size 432x288 with 1 Axes>"
      ]
     },
     "metadata": {
      "needs_background": "light"
     },
     "output_type": "display_data"
    }
   ],
   "source": [
    "sjc = df2016.query('NM_MUNICIPIO == \"SÃO JOSÉ DOS CAMPOS\"')\n",
    "sjc.tail(10).plot(kind='bar', \n",
    "        x='DS_FAIXA_ETARIA', y='QT_APTOS', color='RED')"
   ]
  },
  {
   "cell_type": "code",
   "execution_count": 28,
   "metadata": {},
   "outputs": [
    {
     "data": {
      "text/plain": [
       "<AxesSubplot:xlabel='DS_FAIXA_ETARIA'>"
      ]
     },
     "execution_count": 28,
     "metadata": {},
     "output_type": "execute_result"
    },
    {
     "data": {
      "image/png": "[encoded data removed]",
      "text/plain": [
       "<Figure size 432x288 with 1 Axes>"
      ]
     },
     "metadata": {
      "needs_background": "light"
     },
     "output_type": "display_data"
    }
   ],
   "source": [
    "sjc = df2020.query('NM_MUNICIPIO == \"SÃO JOSÉ DOS CAMPOS\"')\n",
    "sjc.tail(10).plot(kind='bar', \n",
    "        x='DS_FAIXA_ETARIA', y='QT_APTOS', color='RED')"
   ]
  },
  {
   "cell_type": "code",
   "execution_count": 23,
   "metadata": {},
   "outputs": [
    {
     "data": {
      "text/plain": [
       "<AxesSubplot:xlabel='DS_FAIXA_ETARIA'>"
      ]
     },
     "execution_count": 23,
     "metadata": {},
     "output_type": "execute_result"
    },
    {
     "data": {
      "image/png": "[encoded data removed]",
      "text/plain": [
       "<Figure size 432x288 with 1 Axes>"
      ]
     },
     "metadata": {
      "needs_background": "light"
     },
     "output_type": "display_data"
    }
   ],
   "source": [
    "sjc = df2016.query('NM_MUNICIPIO == \"SÃO JOSÉ DOS CAMPOS\"')\n",
    "sjc.tail(10).plot(kind='bar', \n",
    "        x='DS_FAIXA_ETARIA', y='QT_COMPARECIMENTO', color='RED')"
   ]
  },
  {
   "cell_type": "code",
   "execution_count": 24,
   "metadata": {},
   "outputs": [
    {
     "data": {
      "text/plain": [
       "<AxesSubplot:xlabel='DS_FAIXA_ETARIA'>"
      ]
     },
     "execution_count": 24,
     "metadata": {},
     "output_type": "execute_result"
    },
    {
     "data": {
      "image/png": "[encoded data removed]",
      "text/plain": [
       "<Figure size 432x288 with 1 Axes>"
      ]
     },
     "metadata": {
      "needs_background": "light"
     },
     "output_type": "display_data"
    }
   ],
   "source": [
    "sjc = df2016.query('NM_MUNICIPIO == \"SÃO JOSÉ DOS CAMPOS\"')\n",
    "sjc.tail(10).plot(kind='bar', \n",
    "        x='DS_FAIXA_ETARIA', y='QT_ABSTENCAO', color='RED')"
   ]
  },
  {
   "cell_type": "code",
   "execution_count": 25,
   "metadata": {},
   "outputs": [
    {
     "data": {
      "text/plain": [
       "<AxesSubplot:xlabel='DS_FAIXA_ETARIA'>"
      ]
     },
     "execution_count": 25,
     "metadata": {},
     "output_type": "execute_result"
    },
    {
     "data": {
      "image/png": "[encoded data removed]",
      "text/plain": [
       "<Figure size 432x288 with 1 Axes>"
      ]
     },
     "metadata": {
      "needs_background": "light"
     },
     "output_type": "display_data"
    }
   ],
   "source": [
    "sjc = df2020.query('NM_MUNICIPIO == \"SÃO JOSÉ DOS CAMPOS\"')\n",
    "sjc.tail(10).plot(kind='bar', \n",
    "        x='DS_FAIXA_ETARIA', y='QT_COMPARECIMENTO', color='RED')"
   ]
  },
  {
   "cell_type": "code",
   "execution_count": 26,
   "metadata": {},
   "outputs": [
    {
     "data": {
      "text/plain": [
       "<AxesSubplot:xlabel='DS_FAIXA_ETARIA'>"
      ]
     },
     "execution_count": 26,
     "metadata": {},
     "output_type": "execute_result"
    },
    {
     "data": {
      "image/png": "[encoded data removed]",
      "text/plain": [
       "<Figure size 432x288 with 1 Axes>"
      ]
     },
     "metadata": {
      "needs_background": "light"
     },
     "output_type": "display_data"
    }
   ],
   "source": [
    "sjc = df2020.query('NM_MUNICIPIO == \"SÃO JOSÉ DOS CAMPOS\"')\n",
    "sjc.tail(10).plot(kind='bar', \n",
    "        x='DS_FAIXA_ETARIA', y='QT_ABSTENCAO', color='RED')"
   ]
  },
  {
   "cell_type": "code",
   "execution_count": null,
   "metadata": {},
   "outputs": [],
   "source": []
  }
 ],
 "metadata": {
  "kernelspec": {
   "display_name": "Python 3",
   "language": "python",
   "name": "python3"
  },
  "language_info": {
   "codemirror_mode": {
    "name": "ipython",
    "version": 3
   },
   "file_extension": ".py",
   "mimetype": "text/x-python",
   "name": "python",
   "nbconvert_exporter": "python",
   "pygments_lexer": "ipython3",
   "version": "3.8.5"
  }
 },
 "nbformat": 4,
 "nbformat_minor": 4
}
